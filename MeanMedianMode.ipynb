{
 "cells": [
  {
   "cell_type": "code",
   "execution_count": 4,
   "metadata": {},
   "outputs": [],
   "source": [
    "import numpy as np"
   ]
  },
  {
   "cell_type": "code",
   "execution_count": 9,
   "metadata": {},
   "outputs": [],
   "source": [
    "incomes = np.random.normal(27000,15000,10000)"
   ]
  },
  {
   "cell_type": "code",
   "execution_count": 27,
   "metadata": {},
   "outputs": [
    {
     "data": {
      "text/plain": [
       "array([52158.29975333, 13488.27775537, 37163.18387034, ...,\n",
       "       23372.41865687, 32440.49029219, 17252.85965475])"
      ]
     },
     "execution_count": 27,
     "metadata": {},
     "output_type": "execute_result"
    }
   ],
   "source": [
    "incomes"
   ]
  },
  {
   "cell_type": "code",
   "execution_count": 28,
   "metadata": {},
   "outputs": [
    {
     "data": {
      "text/plain": [
       "26959.521400704907"
      ]
     },
     "execution_count": 28,
     "metadata": {},
     "output_type": "execute_result"
    }
   ],
   "source": [
    "np.mean(incomes)"
   ]
  },
  {
   "cell_type": "code",
   "execution_count": 29,
   "metadata": {},
   "outputs": [],
   "source": [
    "%matplotlib inline\n",
    "import matplotlib.pyplot as plt"
   ]
  },
  {
   "cell_type": "code",
   "execution_count": 30,
   "metadata": {},
   "outputs": [
    {
     "data": {
      "image/png": "[encoded data removed]",
      "text/plain": [
       "<Figure size 432x288 with 1 Axes>"
      ]
     },
     "metadata": {
      "needs_background": "light"
     },
     "output_type": "display_data"
    }
   ],
   "source": [
    "plt.hist(incomes,50)\n",
    "plt.show()"
   ]
  },
  {
   "cell_type": "code",
   "execution_count": 31,
   "metadata": {},
   "outputs": [
    {
     "data": {
      "text/plain": [
       "26768.50661731649"
      ]
     },
     "execution_count": 31,
     "metadata": {},
     "output_type": "execute_result"
    }
   ],
   "source": [
    "np.median(incomes)"
   ]
  },
  {
   "cell_type": "code",
   "execution_count": 39,
   "metadata": {},
   "outputs": [],
   "source": [
    "incomes = np.append(incomes, 100000000)"
   ]
  },
  {
   "cell_type": "code",
   "execution_count": 45,
   "metadata": {},
   "outputs": [
    {
     "data": {
      "text/plain": [
       "26769.070864874393"
      ]
     },
     "execution_count": 45,
     "metadata": {},
     "output_type": "execute_result"
    }
   ],
   "source": [
    "np.median(incomes)"
   ]
  },
  {
   "cell_type": "code",
   "execution_count": 46,
   "metadata": {},
   "outputs": [
    {
     "data": {
      "text/plain": [
       "36955.8258181231"
      ]
     },
     "execution_count": 46,
     "metadata": {},
     "output_type": "execute_result"
    }
   ],
   "source": [
    "np.mean(incomes)"
   ]
  },
  {
   "cell_type": "code",
   "execution_count": 48,
   "metadata": {},
   "outputs": [],
   "source": [
    "ages = np.random.randint(18, high=50, size=500)"
   ]
  },
  {
   "cell_type": "code",
   "execution_count": 49,
   "metadata": {},
   "outputs": [
    {
     "data": {
      "text/plain": [
       "array([37, 47, 38, 43, 49, 32, 49, 32, 35, 32, 30, 36, 29, 29, 36, 24, 49,\n",
       "       25, 48, 49, 40, 46, 39, 45, 32, 31, 28, 18, 18, 31, 41, 43, 22, 33,\n",
       "       32, 40, 44, 23, 36, 29, 33, 21, 26, 36, 35, 47, 32, 35, 32, 18, 45,\n",
       "       44, 26, 33, 43, 40, 26, 49, 34, 43, 45, 47, 26, 29, 25, 49, 31, 47,\n",
       "       37, 34, 43, 42, 31, 41, 26, 18, 43, 19, 33, 38, 34, 32, 38, 22, 30,\n",
       "       35, 30, 40, 25, 38, 29, 43, 41, 40, 45, 38, 19, 35, 23, 37, 35, 39,\n",
       "       20, 40, 25, 32, 33, 41, 38, 35, 26, 40, 37, 25, 35, 24, 20, 27, 24,\n",
       "       24, 23, 22, 44, 34, 43, 47, 25, 19, 35, 31, 49, 19, 46, 42, 31, 38,\n",
       "       31, 46, 37, 24, 19, 48, 46, 32, 36, 44, 26, 38, 21, 36, 24, 26, 33,\n",
       "       47, 20, 36, 24, 18, 41, 29, 40, 19, 44, 45, 49, 26, 22, 35, 47, 36,\n",
       "       36, 34, 31, 29, 18, 42, 19, 23, 41, 34, 46, 49, 22, 43, 38, 25, 38,\n",
       "       34, 42, 26, 19, 37, 41, 20, 19, 29, 29, 29, 22, 37, 29, 27, 48, 46,\n",
       "       27, 40, 39, 30, 41, 25, 32, 43, 27, 43, 28, 28, 41, 48, 47, 21, 37,\n",
       "       38, 23, 26, 28, 33, 48, 26, 43, 32, 31, 27, 40, 38, 18, 47, 36, 43,\n",
       "       35, 40, 37, 20, 34, 35, 19, 38, 32, 47, 43, 26, 32, 34, 38, 20, 46,\n",
       "       33, 38, 21, 42, 20, 47, 29, 41, 42, 38, 43, 45, 29, 41, 32, 45, 46,\n",
       "       37, 40, 20, 27, 49, 29, 49, 25, 27, 23, 49, 21, 42, 42, 19, 45, 39,\n",
       "       21, 46, 29, 25, 21, 22, 28, 40, 32, 43, 31, 41, 20, 47, 31, 46, 22,\n",
       "       25, 26, 36, 21, 26, 38, 24, 21, 34, 47, 21, 26, 37, 28, 32, 27, 18,\n",
       "       42, 21, 18, 21, 40, 24, 29, 19, 18, 40, 25, 47, 21, 35, 24, 49, 18,\n",
       "       25, 35, 30, 47, 41, 30, 18, 20, 35, 26, 35, 31, 26, 23, 19, 22, 27,\n",
       "       26, 47, 39, 33, 27, 42, 20, 31, 41, 49, 41, 31, 40, 43, 48, 24, 20,\n",
       "       36, 39, 35, 46, 39, 46, 30, 23, 36, 34, 45, 49, 22, 28, 46, 27, 26,\n",
       "       33, 26, 26, 31, 21, 46, 20, 24, 26, 24, 33, 37, 34, 39, 20, 37, 27,\n",
       "       47, 42, 25, 31, 27, 46, 45, 37, 41, 36, 30, 46, 29, 31, 40, 34, 32,\n",
       "       43, 37, 34, 39, 28, 46, 33, 44, 28, 18, 34, 24, 46, 41, 44, 37, 26,\n",
       "       18, 41, 41, 45, 31, 44, 40, 46, 43, 22, 33, 39, 34, 38, 43, 34, 48,\n",
       "       39, 41, 22, 30, 25, 42, 25, 48, 48, 43, 44, 20, 48, 24, 42, 28, 23,\n",
       "       37, 18, 35, 42, 23, 30, 32, 19, 37, 48, 37, 31, 20, 45, 28, 28, 24,\n",
       "       46, 39, 30, 49, 32, 25, 42])"
      ]
     },
     "execution_count": 49,
     "metadata": {},
     "output_type": "execute_result"
    }
   ],
   "source": [
    "ages"
   ]
  },
  {
   "cell_type": "code",
   "execution_count": 50,
   "metadata": {},
   "outputs": [],
   "source": [
    "from scipy import stats"
   ]
  },
  {
   "cell_type": "code",
   "execution_count": 51,
   "metadata": {},
   "outputs": [
    {
     "data": {
      "text/plain": [
       "ModeResult(mode=array([26]), count=array([24]))"
      ]
     },
     "execution_count": 51,
     "metadata": {},
     "output_type": "execute_result"
    }
   ],
   "source": [
    "stats.mode(ages)"
   ]
  },
  {
   "cell_type": "code",
   "execution_count": null,
   "metadata": {},
   "outputs": [],
   "source": []
  }
 ],
 "metadata": {
  "kernelspec": {
   "display_name": "Python 3",
   "language": "python",
   "name": "python3"
  },
  "language_info": {
   "codemirror_mode": {
    "name": "ipython",
    "version": 3
   },
   "file_extension": ".py",
   "mimetype": "text/x-python",
   "name": "python",
   "nbconvert_exporter": "python",
   "pygments_lexer": "ipython3",
   "version": "3.7.4"
  }
 },
 "nbformat": 4,
 "nbformat_minor": 2
}
