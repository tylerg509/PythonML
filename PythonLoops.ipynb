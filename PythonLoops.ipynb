{
 "cells": [
  {
   "cell_type": "code",
   "execution_count": 5,
   "metadata": {},
   "outputs": [
    {
     "name": "stdout",
     "output_type": "stream",
     "text": [
      "10\n",
      "11\n",
      "12\n",
      "13\n",
      "14\n",
      "15\n",
      "16\n",
      "17\n",
      "18\n",
      "19\n"
     ]
    }
   ],
   "source": [
    "#WHILE LOOOP\n",
    "x=10\n",
    "while x<20:\n",
    "    print(x)\n",
    "    x = x+1\n",
    "    "
   ]
  },
  {
   "cell_type": "code",
   "execution_count": 9,
   "metadata": {},
   "outputs": [
    {
     "name": "stdin",
     "output_type": "stream",
     "text": [
      "please add new name t\n",
      "please add new name a\n",
      "please add new name l\n"
     ]
    },
    {
     "name": "stdout",
     "output_type": "stream",
     "text": [
      "Listfull\n"
     ]
    }
   ],
   "source": [
    "arr = []\n",
    "while len( arr) <3:\n",
    "    newName =input(\"please add new name\").strip().capitalize()\n",
    "    arr.append(newName)\n",
    "print('Listfull')"
   ]
  },
  {
   "cell_type": "code",
   "execution_count": 10,
   "metadata": {},
   "outputs": [
    {
     "data": {
      "text/plain": [
       "['T', 'A', 'L']"
      ]
     },
     "execution_count": 10,
     "metadata": {},
     "output_type": "execute_result"
    }
   ],
   "source": [
    "arr\n"
   ]
  },
  {
   "cell_type": "code",
   "execution_count": 12,
   "metadata": {},
   "outputs": [
    {
     "name": "stdout",
     "output_type": "stream",
     "text": [
      "1\n",
      "2\n",
      "3\n",
      "4\n",
      "5\n",
      "6\n",
      "7\n",
      "8\n",
      "9\n",
      "10\n",
      "11\n",
      "12\n",
      "13\n",
      "14\n",
      "15\n",
      "16\n",
      "17\n",
      "18\n",
      "19\n"
     ]
    }
   ],
   "source": [
    "#FOR LOOP\n",
    "\n",
    "for number in range(1,20):\n",
    "    print(number)"
   ]
  },
  {
   "cell_type": "code",
   "execution_count": 13,
   "metadata": {},
   "outputs": [
    {
     "name": "stdout",
     "output_type": "stream",
     "text": [
      "1\n",
      "3\n",
      "5\n",
      "7\n",
      "9\n",
      "11\n",
      "13\n",
      "15\n",
      "17\n",
      "19\n"
     ]
    }
   ],
   "source": [
    "#use step\n",
    "for number in range(1,20,2):\n",
    "    print(number)"
   ]
  },
  {
   "cell_type": "code",
   "execution_count": 45,
   "metadata": {},
   "outputs": [
    {
     "name": "stdout",
     "output_type": "stream",
     "text": [
      "there are 7 vowels\n",
      "there are 13 consonents\n",
      "7\n",
      "13\n"
     ]
    }
   ],
   "source": [
    "vowels= 0\n",
    "consonants=0\n",
    "\n",
    "hi = 'hel afkjhs;q3oeifjalo'\n",
    "vowels2 = 'aeiou'\n",
    "\n",
    "\n",
    "for let in hi:\n",
    "    if let in vowels2:\n",
    "        vowels = vowels + 1\n",
    "    elif let==' ':\n",
    "        pass\n",
    "    else:\n",
    "        consonants = consonants + 1\n",
    "        \n",
    "print('there are {} vowels'.format(vowels))\n",
    "print('there are {} consonents'.format(consonants))\n",
    "\n",
    "print(vowels)\n",
    "print(consonants)"
   ]
  },
  {
   "cell_type": "code",
   "execution_count": null,
   "metadata": {},
   "outputs": [],
   "source": [
    "#advanced for loop"
   ]
  },
  {
   "cell_type": "code",
   "execution_count": 55,
   "metadata": {},
   "outputs": [
    {
     "name": "stdout",
     "output_type": "stream",
     "text": [
      "male\n",
      "female\n"
     ]
    }
   ],
   "source": [
    "students={\n",
    "    'male': ['tom', 'har', 'fran', 'char'],\n",
    "    'female':['sar', 'hud', 'sam', 'em', 'eliz']\n",
    "}\n",
    "\n",
    "for key in students.keys():\n",
    "        print(key)"
   ]
  },
  {
   "cell_type": "code",
   "execution_count": 56,
   "metadata": {},
   "outputs": [
    {
     "name": "stdout",
     "output_type": "stream",
     "text": [
      "['tom', 'har', 'fran', 'char']\n",
      "['sar', 'hud', 'sam', 'em', 'eliz']\n"
     ]
    }
   ],
   "source": [
    "students={\n",
    "    'male': ['tom', 'har', 'fran', 'char'],\n",
    "    'female':['sar', 'hud', 'sam', 'em', 'eliz']\n",
    "}\n",
    "\n",
    "for key in students.keys():\n",
    "        print(students[key])"
   ]
  },
  {
   "cell_type": "code",
   "execution_count": 57,
   "metadata": {},
   "outputs": [
    {
     "name": "stdout",
     "output_type": "stream",
     "text": [
      "tom\n",
      "har\n",
      "fran\n",
      "char\n",
      "sar\n",
      "hud\n",
      "sam\n",
      "em\n",
      "eliz\n"
     ]
    }
   ],
   "source": [
    "students={\n",
    "    'male': ['tom', 'har', 'fran', 'char'],\n",
    "    'female':['sar', 'hud', 'sam', 'em', 'eliz']\n",
    "}\n",
    "\n",
    "for key in students.keys():\n",
    "    for val in students[key]:\n",
    "        print(val)\n",
    "    "
   ]
  },
  {
   "cell_type": "code",
   "execution_count": null,
   "metadata": {},
   "outputs": [],
   "source": []
  }
 ],
 "metadata": {
  "kernelspec": {
   "display_name": "Python 3",
   "language": "python",
   "name": "python3"
  },
  "language_info": {
   "codemirror_mode": {
    "name": "ipython",
    "version": 3
   },
   "file_extension": ".py",
   "mimetype": "text/x-python",
   "name": "python",
   "nbconvert_exporter": "python",
   "pygments_lexer": "ipython3",
   "version": "3.7.4"
  }
 },
 "nbformat": 4,
 "nbformat_minor": 4
}
